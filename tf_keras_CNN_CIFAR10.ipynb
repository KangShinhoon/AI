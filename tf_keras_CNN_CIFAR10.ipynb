{
  "nbformat": 4,
  "nbformat_minor": 0,
  "metadata": {
    "accelerator": "GPU",
    "colab": {
      "name": "tf.keras_CNN_CIFAR10.ipynb",
      "provenance": [],
      "collapsed_sections": []
    },
    "kernelspec": {
      "display_name": "Python 3",
      "name": "python3"
    },
    "language_info": {
      "name": "python"
    }
  },
  "cells": [
    {
      "cell_type": "markdown",
      "source": [
        "Google Drive 연결"
      ],
      "metadata": {
        "id": "Hxi7riIaVzrd"
      }
    },
    {
      "cell_type": "code",
      "metadata": {
        "colab": {
          "base_uri": "https://localhost:8080/"
        },
        "id": "q67R23-hc2Dh",
        "outputId": "ca6a05c5-7090-4107-a464-9592d30dad32"
      },
      "source": [
        "from google.colab import drive\n",
        "drive.mount('/content/gdrive')   # google drive를 google colab에 연결. 처음 실행 시, 인증 필요 "
      ],
      "execution_count": null,
      "outputs": [
        {
          "output_type": "stream",
          "name": "stdout",
          "text": [
            "Mounted at /content/gdrive\n"
          ]
        }
      ]
    },
    {
      "cell_type": "markdown",
      "source": [
        "Google Drive 파일 읽기 테스트"
      ],
      "metadata": {
        "id": "Ic9wytzIV60g"
      }
    },
    {
      "cell_type": "code",
      "source": [
        "import pandas as pd\n",
        "\n",
        "# BMI 데이터를 읽어 들이고 정규화하기\n",
        "dir = \"/content/gdrive/My Drive/Colab Notebooks/\"\n",
        "df = pd.read_csv(dir + \"test.csv\")\n",
        "df"
      ],
      "metadata": {
        "id": "gdCiTXou_STW",
        "colab": {
          "base_uri": "https://localhost:8080/",
          "height": 206
        },
        "outputId": "22a94119-03bd-440f-ef9e-bcbda11719b8"
      },
      "execution_count": null,
      "outputs": [
        {
          "output_type": "execute_result",
          "data": {
            "text/plain": [
              "  \\theight\\tweight\\tlabel\n",
              "0         0\\t142\\t62\\tfat\n",
              "1         1\\t142\\t73\\tfat\n",
              "2      2\\t177\\t61\\tnormal\n",
              "3        3\\t187\\t48\\tthin\n",
              "4         4\\t153\\t60\\tfat"
            ],
            "text/html": [
              "\n",
              "  <div id=\"df-3e9ac8d8-60a1-40c6-be91-5187cb02d5bb\">\n",
              "    <div class=\"colab-df-container\">\n",
              "      <div>\n",
              "<style scoped>\n",
              "    .dataframe tbody tr th:only-of-type {\n",
              "        vertical-align: middle;\n",
              "    }\n",
              "\n",
              "    .dataframe tbody tr th {\n",
              "        vertical-align: top;\n",
              "    }\n",
              "\n",
              "    .dataframe thead th {\n",
              "        text-align: right;\n",
              "    }\n",
              "</style>\n",
              "<table border=\"1\" class=\"dataframe\">\n",
              "  <thead>\n",
              "    <tr style=\"text-align: right;\">\n",
              "      <th></th>\n",
              "      <th>\\theight\\tweight\\tlabel</th>\n",
              "    </tr>\n",
              "  </thead>\n",
              "  <tbody>\n",
              "    <tr>\n",
              "      <th>0</th>\n",
              "      <td>0\\t142\\t62\\tfat</td>\n",
              "    </tr>\n",
              "    <tr>\n",
              "      <th>1</th>\n",
              "      <td>1\\t142\\t73\\tfat</td>\n",
              "    </tr>\n",
              "    <tr>\n",
              "      <th>2</th>\n",
              "      <td>2\\t177\\t61\\tnormal</td>\n",
              "    </tr>\n",
              "    <tr>\n",
              "      <th>3</th>\n",
              "      <td>3\\t187\\t48\\tthin</td>\n",
              "    </tr>\n",
              "    <tr>\n",
              "      <th>4</th>\n",
              "      <td>4\\t153\\t60\\tfat</td>\n",
              "    </tr>\n",
              "  </tbody>\n",
              "</table>\n",
              "</div>\n",
              "      <button class=\"colab-df-convert\" onclick=\"convertToInteractive('df-3e9ac8d8-60a1-40c6-be91-5187cb02d5bb')\"\n",
              "              title=\"Convert this dataframe to an interactive table.\"\n",
              "              style=\"display:none;\">\n",
              "        \n",
              "  <svg xmlns=\"http://www.w3.org/2000/svg\" height=\"24px\"viewBox=\"0 0 24 24\"\n",
              "       width=\"24px\">\n",
              "    <path d=\"M0 0h24v24H0V0z\" fill=\"none\"/>\n",
              "    <path d=\"M18.56 5.44l.94 2.06.94-2.06 2.06-.94-2.06-.94-.94-2.06-.94 2.06-2.06.94zm-11 1L8.5 8.5l.94-2.06 2.06-.94-2.06-.94L8.5 2.5l-.94 2.06-2.06.94zm10 10l.94 2.06.94-2.06 2.06-.94-2.06-.94-.94-2.06-.94 2.06-2.06.94z\"/><path d=\"M17.41 7.96l-1.37-1.37c-.4-.4-.92-.59-1.43-.59-.52 0-1.04.2-1.43.59L10.3 9.45l-7.72 7.72c-.78.78-.78 2.05 0 2.83L4 21.41c.39.39.9.59 1.41.59.51 0 1.02-.2 1.41-.59l7.78-7.78 2.81-2.81c.8-.78.8-2.07 0-2.86zM5.41 20L4 18.59l7.72-7.72 1.47 1.35L5.41 20z\"/>\n",
              "  </svg>\n",
              "      </button>\n",
              "      \n",
              "  <style>\n",
              "    .colab-df-container {\n",
              "      display:flex;\n",
              "      flex-wrap:wrap;\n",
              "      gap: 12px;\n",
              "    }\n",
              "\n",
              "    .colab-df-convert {\n",
              "      background-color: #E8F0FE;\n",
              "      border: none;\n",
              "      border-radius: 50%;\n",
              "      cursor: pointer;\n",
              "      display: none;\n",
              "      fill: #1967D2;\n",
              "      height: 32px;\n",
              "      padding: 0 0 0 0;\n",
              "      width: 32px;\n",
              "    }\n",
              "\n",
              "    .colab-df-convert:hover {\n",
              "      background-color: #E2EBFA;\n",
              "      box-shadow: 0px 1px 2px rgba(60, 64, 67, 0.3), 0px 1px 3px 1px rgba(60, 64, 67, 0.15);\n",
              "      fill: #174EA6;\n",
              "    }\n",
              "\n",
              "    [theme=dark] .colab-df-convert {\n",
              "      background-color: #3B4455;\n",
              "      fill: #D2E3FC;\n",
              "    }\n",
              "\n",
              "    [theme=dark] .colab-df-convert:hover {\n",
              "      background-color: #434B5C;\n",
              "      box-shadow: 0px 1px 3px 1px rgba(0, 0, 0, 0.15);\n",
              "      filter: drop-shadow(0px 1px 2px rgba(0, 0, 0, 0.3));\n",
              "      fill: #FFFFFF;\n",
              "    }\n",
              "  </style>\n",
              "\n",
              "      <script>\n",
              "        const buttonEl =\n",
              "          document.querySelector('#df-3e9ac8d8-60a1-40c6-be91-5187cb02d5bb button.colab-df-convert');\n",
              "        buttonEl.style.display =\n",
              "          google.colab.kernel.accessAllowed ? 'block' : 'none';\n",
              "\n",
              "        async function convertToInteractive(key) {\n",
              "          const element = document.querySelector('#df-3e9ac8d8-60a1-40c6-be91-5187cb02d5bb');\n",
              "          const dataTable =\n",
              "            await google.colab.kernel.invokeFunction('convertToInteractive',\n",
              "                                                     [key], {});\n",
              "          if (!dataTable) return;\n",
              "\n",
              "          const docLinkHtml = 'Like what you see? Visit the ' +\n",
              "            '<a target=\"_blank\" href=https://colab.research.google.com/notebooks/data_table.ipynb>data table notebook</a>'\n",
              "            + ' to learn more about interactive tables.';\n",
              "          element.innerHTML = '';\n",
              "          dataTable['output_type'] = 'display_data';\n",
              "          await google.colab.output.renderOutput(dataTable, element);\n",
              "          const docLink = document.createElement('div');\n",
              "          docLink.innerHTML = docLinkHtml;\n",
              "          element.appendChild(docLink);\n",
              "        }\n",
              "      </script>\n",
              "    </div>\n",
              "  </div>\n",
              "  "
            ]
          },
          "metadata": {},
          "execution_count": 2
        }
      ]
    },
    {
      "cell_type": "markdown",
      "source": [
        "CIFAR-10 데이터 불러오기"
      ],
      "metadata": {
        "id": "Aden-4qHWAwN"
      }
    },
    {
      "cell_type": "code",
      "metadata": {
        "id": "BPIcj-qnhMJI",
        "colab": {
          "base_uri": "https://localhost:8080/"
        },
        "outputId": "559c1173-bfa2-4ce0-eaf7-9a16af97689c"
      },
      "source": [
        "import numpy as np\n",
        "import tensorflow as tf\n",
        "from tensorflow.keras.datasets import cifar10\n",
        "from tensorflow.keras.models import Sequential\n",
        "from tensorflow.keras.layers import Conv2D,MaxPooling2D,Flatten,Dense,Dropout\n",
        "from tensorflow.keras.optimizers import Adam\n",
        "from tensorflow.keras import regularizers\n",
        "import time\n",
        "\n",
        "# CIFAR-10 데이터셋을 읽고 신경망에 입력할 형태로 변환\n",
        "(x_train,y_train),(x_test,y_test)=cifar10.load_data()\n",
        "x_train=x_train.astype(np.float32)/255.0\n",
        "x_test=x_test.astype(np.float32)/255.0\n",
        "print(\"before:\",y_train[0:3])\n",
        "y_train=tf.keras.utils.to_categorical(y_train,10)\n",
        "y_test=tf.keras.utils.to_categorical(y_test,10)\n",
        "print(\"after:\",y_train[0:3])"
      ],
      "execution_count": null,
      "outputs": [
        {
          "output_type": "stream",
          "name": "stdout",
          "text": [
            "before: [[6]\n",
            " [9]\n",
            " [9]]\n",
            "after: [[0. 0. 0. 0. 0. 0. 1. 0. 0. 0.]\n",
            " [0. 0. 0. 0. 0. 0. 0. 0. 0. 1.]\n",
            " [0. 0. 0. 0. 0. 0. 0. 0. 0. 1.]]\n"
          ]
        }
      ]
    },
    {
      "cell_type": "code",
      "source": [
        "print(\"before:\",x_train[0])\n",
        "x_train.shape"
      ],
      "metadata": {
        "colab": {
          "base_uri": "https://localhost:8080/"
        },
        "id": "H8wv7GHmn-Na",
        "outputId": "2f6ba39b-970c-42f2-ef5c-908a89163b3f"
      },
      "execution_count": null,
      "outputs": [
        {
          "output_type": "stream",
          "name": "stdout",
          "text": [
            "before: [[[0.23137255 0.24313726 0.24705882]\n",
            "  [0.16862746 0.18039216 0.1764706 ]\n",
            "  [0.19607843 0.1882353  0.16862746]\n",
            "  ...\n",
            "  [0.61960787 0.5176471  0.42352942]\n",
            "  [0.59607846 0.49019608 0.4       ]\n",
            "  [0.5803922  0.4862745  0.40392157]]\n",
            "\n",
            " [[0.0627451  0.07843138 0.07843138]\n",
            "  [0.         0.         0.        ]\n",
            "  [0.07058824 0.03137255 0.        ]\n",
            "  ...\n",
            "  [0.48235294 0.34509805 0.21568628]\n",
            "  [0.46666667 0.3254902  0.19607843]\n",
            "  [0.47843137 0.34117648 0.22352941]]\n",
            "\n",
            " [[0.09803922 0.09411765 0.08235294]\n",
            "  [0.0627451  0.02745098 0.        ]\n",
            "  [0.19215687 0.10588235 0.03137255]\n",
            "  ...\n",
            "  [0.4627451  0.32941177 0.19607843]\n",
            "  [0.47058824 0.32941177 0.19607843]\n",
            "  [0.42745098 0.28627452 0.16470589]]\n",
            "\n",
            " ...\n",
            "\n",
            " [[0.8156863  0.6666667  0.3764706 ]\n",
            "  [0.7882353  0.6        0.13333334]\n",
            "  [0.7764706  0.6313726  0.10196079]\n",
            "  ...\n",
            "  [0.627451   0.52156866 0.27450982]\n",
            "  [0.21960784 0.12156863 0.02745098]\n",
            "  [0.20784314 0.13333334 0.07843138]]\n",
            "\n",
            " [[0.7058824  0.54509807 0.3764706 ]\n",
            "  [0.6784314  0.48235294 0.16470589]\n",
            "  [0.7294118  0.5647059  0.11764706]\n",
            "  ...\n",
            "  [0.72156864 0.5803922  0.36862746]\n",
            "  [0.38039216 0.24313726 0.13333334]\n",
            "  [0.3254902  0.20784314 0.13333334]]\n",
            "\n",
            " [[0.69411767 0.5647059  0.45490196]\n",
            "  [0.65882355 0.5058824  0.36862746]\n",
            "  [0.7019608  0.5568628  0.34117648]\n",
            "  ...\n",
            "  [0.84705883 0.72156864 0.54901963]\n",
            "  [0.5921569  0.4627451  0.32941177]\n",
            "  [0.48235294 0.36078432 0.28235295]]]\n"
          ]
        },
        {
          "output_type": "execute_result",
          "data": {
            "text/plain": [
              "(50000, 32, 32, 3)"
            ]
          },
          "metadata": {},
          "execution_count": 21
        }
      ]
    },
    {
      "cell_type": "code",
      "source": [
        "x_test.shape"
      ],
      "metadata": {
        "colab": {
          "base_uri": "https://localhost:8080/"
        },
        "id": "li5Y4mO6qBd6",
        "outputId": "83ae3089-074f-44ca-8ce1-2fd8a9c933f3"
      },
      "execution_count": null,
      "outputs": [
        {
          "output_type": "execute_result",
          "data": {
            "text/plain": [
              "(10000, 32, 32, 3)"
            ]
          },
          "metadata": {},
          "execution_count": 19
        }
      ]
    },
    {
      "cell_type": "markdown",
      "source": [
        "CNN 모델 설계 및 가시화"
      ],
      "metadata": {
        "id": "4ODFBgatWGbx"
      }
    },
    {
      "cell_type": "code",
      "source": [
        "# 모델 구조 설계\n",
        "input_shape=(32,32,3)\n",
        "n_kernals1=32\n",
        "n_kernals2=64\n",
        "n_hidden1=512\n",
        "n_output=10\n",
        "\n",
        "kernel_size=(3,3)\n",
        "pool_size=(2,2)\n",
        "strides=(1,1)\n",
        "\n",
        "# Model hyperparameters\n",
        "activation='relu'\n",
        "kernel_initializer='glorot_uniform'\n",
        "bias_initializer='zeros'\n",
        "dropout_rate=[0.25,0.25,0.25]\n",
        "l2_reg=0.0\n",
        "\n",
        "# 모델 설계\n",
        "cnn=Sequential()\n",
        "cnn.add(Conv2D(n_kernals1,kernel_size,strides=strides,activation=activation,kernel_initializer=kernel_initializer,bias_initializer=bias_initializer,input_shape=input_shape))\n",
        "cnn.add(Conv2D(n_kernals1,kernel_size,strides=strides,activation=activation,kernel_initializer=kernel_initializer,bias_initializer=bias_initializer))\n",
        "cnn.add(MaxPooling2D(pool_size=pool_size))\n",
        "cnn.add(Dropout(dropout_rate[0]))\n",
        "cnn.add(Conv2D(n_kernals2,kernel_size,strides=strides,activation=activation,kernel_initializer=kernel_initializer,bias_initializer=bias_initializer))\n",
        "cnn.add(Conv2D(n_kernals2,kernel_size,strides=strides,activation=activation,kernel_initializer=kernel_initializer,bias_initializer=bias_initializer))\n",
        "cnn.add(MaxPooling2D(pool_size=pool_size))\n",
        "cnn.add(Dropout(dropout_rate[1]))\n",
        "cnn.add(Flatten())\n",
        "cnn.add(Dense(n_hidden1,activation=activation))\n",
        "cnn.add(Dropout(dropout_rate[2]))\n",
        "cnn.add(Dense(n_output,activation='softmax',kernel_regularizer=regularizers.l2(l2_reg)))\n",
        "\n",
        "# 모델 확인\n",
        "cnn.summary()\n",
        "\n",
        "# SVG로 그리기\n",
        "from IPython.display import SVG\n",
        "from keras.utils.vis_utils import model_to_dot, plot_model\n",
        "%matplotlib inline\n",
        "SVG(model_to_dot(cnn, show_shapes=True, dpi=65).create(prog='dot', format='svg'))  # SVG로 가시화\n",
        "plot_model(cnn, to_file=dir+'cnn_cifar10.png', show_shapes=True, show_layer_names=True, dpi=65) # 파일 출력"
      ],
      "metadata": {
        "colab": {
          "base_uri": "https://localhost:8080/",
          "height": 1000
        },
        "id": "1AS-V08VD0f8",
        "outputId": "8e5003cb-c56e-445a-f43a-8d8e16c25b2c"
      },
      "execution_count": null,
      "outputs": [
        {
          "output_type": "stream",
          "name": "stdout",
          "text": [
            "Model: \"sequential\"\n",
            "_________________________________________________________________\n",
            " Layer (type)                Output Shape              Param #   \n",
            "=================================================================\n",
            " conv2d (Conv2D)             (None, 30, 30, 32)        896       \n",
            "                                                                 \n",
            " conv2d_1 (Conv2D)           (None, 28, 28, 32)        9248      \n",
            "                                                                 \n",
            " max_pooling2d (MaxPooling2D  (None, 14, 14, 32)       0         \n",
            " )                                                               \n",
            "                                                                 \n",
            " dropout (Dropout)           (None, 14, 14, 32)        0         \n",
            "                                                                 \n",
            " conv2d_2 (Conv2D)           (None, 12, 12, 64)        18496     \n",
            "                                                                 \n",
            " conv2d_3 (Conv2D)           (None, 10, 10, 64)        36928     \n",
            "                                                                 \n",
            " max_pooling2d_1 (MaxPooling  (None, 5, 5, 64)         0         \n",
            " 2D)                                                             \n",
            "                                                                 \n",
            " dropout_1 (Dropout)         (None, 5, 5, 64)          0         \n",
            "                                                                 \n",
            " flatten (Flatten)           (None, 1600)              0         \n",
            "                                                                 \n",
            " dense (Dense)               (None, 512)               819712    \n",
            "                                                                 \n",
            " dropout_2 (Dropout)         (None, 512)               0         \n",
            "                                                                 \n",
            " dense_1 (Dense)             (None, 10)                5130      \n",
            "                                                                 \n",
            "=================================================================\n",
            "Total params: 890,410\n",
            "Trainable params: 890,410\n",
            "Non-trainable params: 0\n",
            "_________________________________________________________________\n"
          ]
        },
        {
          "output_type": "execute_result",
          "data": {
            "text/plain": [
              "<IPython.core.display.Image object>"
            ],
            "image/png": "[encoded data removed]"
          },
          "metadata": {},
          "execution_count": 4
        }
      ]
    },
    {
      "cell_type": "markdown",
      "source": [
        "모델 학습, 평가, 저장"
      ],
      "metadata": {
        "id": "RWGRrUQeWL-x"
      }
    },
    {
      "cell_type": "code",
      "source": [
        "# Learning hyperparameters\n",
        "batch_size=128\n",
        "epochs=30\n",
        "optimizer=Adam()\n",
        "\n",
        "# 모델 학습\n",
        "start=time.time()\n",
        "cnn.compile(loss='categorical_crossentropy',optimizer=optimizer,metrics=['accuracy'])\n",
        "hist=cnn.fit(x_train,y_train,batch_size=batch_size,epochs=epochs,validation_data=(x_test,y_test),verbose=2)\n",
        "end=time.time()\n",
        "print(\"학습시간(초):\", end-start)\n",
        "\n",
        "# 정확률 평가(1)\n",
        "res=cnn.evaluate(x_test,y_test,verbose=0)\n",
        "print(\"정확률(%):\",res[1]*100)\n",
        "\n",
        "# 모델 저장\n",
        "cnn.save(dir + \"cnn_cifar10.h5\")\n",
        "print(\"Saved model to disk.\")"
      ],
      "metadata": {
        "colab": {
          "base_uri": "https://localhost:8080/"
        },
        "id": "Enqj4AAQC3JB",
        "outputId": "4ce0ee83-c7c5-496d-c1a6-f5c128f0eca0"
      },
      "execution_count": null,
      "outputs": [
        {
          "output_type": "stream",
          "name": "stdout",
          "text": [
            "Epoch 1/30\n",
            "391/391 - 17s - loss: 1.6244 - accuracy: 0.4058 - val_loss: 1.2666 - val_accuracy: 0.5423 - 17s/epoch - 44ms/step\n",
            "Epoch 2/30\n",
            "391/391 - 4s - loss: 1.1933 - accuracy: 0.5750 - val_loss: 1.0522 - val_accuracy: 0.6303 - 4s/epoch - 10ms/step\n",
            "Epoch 3/30\n",
            "391/391 - 4s - loss: 1.0124 - accuracy: 0.6419 - val_loss: 0.9425 - val_accuracy: 0.6701 - 4s/epoch - 10ms/step\n",
            "Epoch 4/30\n",
            "391/391 - 4s - loss: 0.8854 - accuracy: 0.6858 - val_loss: 0.8198 - val_accuracy: 0.7163 - 4s/epoch - 10ms/step\n",
            "Epoch 5/30\n",
            "391/391 - 4s - loss: 0.8067 - accuracy: 0.7155 - val_loss: 0.7760 - val_accuracy: 0.7311 - 4s/epoch - 10ms/step\n",
            "Epoch 6/30\n",
            "391/391 - 4s - loss: 0.7414 - accuracy: 0.7392 - val_loss: 0.7162 - val_accuracy: 0.7507 - 4s/epoch - 10ms/step\n",
            "Epoch 7/30\n",
            "391/391 - 4s - loss: 0.6878 - accuracy: 0.7562 - val_loss: 0.6867 - val_accuracy: 0.7603 - 4s/epoch - 9ms/step\n",
            "Epoch 8/30\n",
            "391/391 - 4s - loss: 0.6438 - accuracy: 0.7743 - val_loss: 0.6900 - val_accuracy: 0.7628 - 4s/epoch - 9ms/step\n",
            "Epoch 9/30\n",
            "391/391 - 4s - loss: 0.6035 - accuracy: 0.7867 - val_loss: 0.6809 - val_accuracy: 0.7638 - 4s/epoch - 9ms/step\n",
            "Epoch 10/30\n",
            "391/391 - 4s - loss: 0.5600 - accuracy: 0.8012 - val_loss: 0.6561 - val_accuracy: 0.7757 - 4s/epoch - 9ms/step\n",
            "Epoch 11/30\n",
            "391/391 - 4s - loss: 0.5326 - accuracy: 0.8129 - val_loss: 0.6433 - val_accuracy: 0.7815 - 4s/epoch - 11ms/step\n",
            "Epoch 12/30\n",
            "391/391 - 4s - loss: 0.5084 - accuracy: 0.8204 - val_loss: 0.6458 - val_accuracy: 0.7851 - 4s/epoch - 11ms/step\n",
            "Epoch 13/30\n",
            "391/391 - 4s - loss: 0.4806 - accuracy: 0.8296 - val_loss: 0.6373 - val_accuracy: 0.7846 - 4s/epoch - 9ms/step\n",
            "Epoch 14/30\n",
            "391/391 - 4s - loss: 0.4540 - accuracy: 0.8399 - val_loss: 0.6528 - val_accuracy: 0.7799 - 4s/epoch - 10ms/step\n",
            "Epoch 15/30\n",
            "391/391 - 4s - loss: 0.4307 - accuracy: 0.8471 - val_loss: 0.7003 - val_accuracy: 0.7699 - 4s/epoch - 9ms/step\n",
            "Epoch 16/30\n",
            "391/391 - 4s - loss: 0.4139 - accuracy: 0.8520 - val_loss: 0.6302 - val_accuracy: 0.7875 - 4s/epoch - 9ms/step\n",
            "Epoch 17/30\n",
            "391/391 - 4s - loss: 0.3982 - accuracy: 0.8575 - val_loss: 0.6372 - val_accuracy: 0.7931 - 4s/epoch - 10ms/step\n",
            "Epoch 18/30\n",
            "391/391 - 4s - loss: 0.3752 - accuracy: 0.8654 - val_loss: 0.6614 - val_accuracy: 0.7898 - 4s/epoch - 9ms/step\n",
            "Epoch 19/30\n",
            "391/391 - 4s - loss: 0.3619 - accuracy: 0.8720 - val_loss: 0.6527 - val_accuracy: 0.7877 - 4s/epoch - 9ms/step\n",
            "Epoch 20/30\n",
            "391/391 - 4s - loss: 0.3523 - accuracy: 0.8741 - val_loss: 0.6825 - val_accuracy: 0.7848 - 4s/epoch - 10ms/step\n",
            "Epoch 21/30\n",
            "391/391 - 4s - loss: 0.3384 - accuracy: 0.8786 - val_loss: 0.6919 - val_accuracy: 0.7885 - 4s/epoch - 9ms/step\n",
            "Epoch 22/30\n",
            "391/391 - 4s - loss: 0.3271 - accuracy: 0.8832 - val_loss: 0.6699 - val_accuracy: 0.7908 - 4s/epoch - 9ms/step\n",
            "Epoch 23/30\n",
            "391/391 - 4s - loss: 0.3150 - accuracy: 0.8874 - val_loss: 0.6922 - val_accuracy: 0.7913 - 4s/epoch - 9ms/step\n",
            "Epoch 24/30\n",
            "391/391 - 4s - loss: 0.3073 - accuracy: 0.8891 - val_loss: 0.6732 - val_accuracy: 0.7893 - 4s/epoch - 9ms/step\n",
            "Epoch 25/30\n",
            "391/391 - 4s - loss: 0.3004 - accuracy: 0.8939 - val_loss: 0.6866 - val_accuracy: 0.7871 - 4s/epoch - 9ms/step\n",
            "Epoch 26/30\n",
            "391/391 - 4s - loss: 0.2894 - accuracy: 0.8963 - val_loss: 0.7002 - val_accuracy: 0.7882 - 4s/epoch - 9ms/step\n",
            "Epoch 27/30\n",
            "391/391 - 4s - loss: 0.2913 - accuracy: 0.8962 - val_loss: 0.6779 - val_accuracy: 0.7968 - 4s/epoch - 9ms/step\n",
            "Epoch 28/30\n",
            "391/391 - 4s - loss: 0.2824 - accuracy: 0.8990 - val_loss: 0.7205 - val_accuracy: 0.7900 - 4s/epoch - 10ms/step\n",
            "Epoch 29/30\n",
            "391/391 - 4s - loss: 0.2693 - accuracy: 0.9034 - val_loss: 0.7131 - val_accuracy: 0.7845 - 4s/epoch - 9ms/step\n",
            "Epoch 30/30\n",
            "391/391 - 4s - loss: 0.2682 - accuracy: 0.9040 - val_loss: 0.7031 - val_accuracy: 0.7890 - 4s/epoch - 9ms/step\n",
            "학습시간(초): 145.73972177505493\n",
            "정확률(%): 78.89999747276306\n",
            "Saved model to disk.\n"
          ]
        }
      ]
    },
    {
      "cell_type": "markdown",
      "source": [
        "모델 학습 그래프 그리기"
      ],
      "metadata": {
        "id": "XmJjyRWaWY5Y"
      }
    },
    {
      "cell_type": "code",
      "source": [
        "import matplotlib.pyplot as plt\n",
        "\n",
        "# 정확률 그래프\n",
        "plt.plot(hist.history['accuracy'])\n",
        "plt.plot(hist.history['val_accuracy'])\n",
        "plt.title('Model accuracy')\n",
        "plt.xlabel('Epoch')\n",
        "plt.ylabel('Accuracy')\n",
        "plt.legend(['Train','Validation'],loc='best')\n",
        "plt.grid()\n",
        "plt.show()\n",
        "\n",
        "# 손실 함수 그래프\n",
        "plt.plot(hist.history['loss'])\n",
        "plt.plot(hist.history['val_loss'])\n",
        "plt.title('Model loss')\n",
        "plt.xlabel('Epoch')\n",
        "plt.ylabel('Loss')\n",
        "plt.legend(['Train','Validation'],loc='best')\n",
        "plt.grid()\n",
        "plt.show()"
      ],
      "metadata": {
        "id": "ZHi6tiv5VnMZ",
        "colab": {
          "base_uri": "https://localhost:8080/",
          "height": 573
        },
        "outputId": "f60d2ebe-45a6-4f27-cdf1-d5a0ed3fec1b"
      },
      "execution_count": null,
      "outputs": [
        {
          "output_type": "display_data",
          "data": {
            "text/plain": [
              "<Figure size 432x288 with 1 Axes>"
            ],
            "image/png": "[encoded data removed]"
          },
          "metadata": {
            "needs_background": "light"
          }
        },
        {
          "output_type": "display_data",
          "data": {
            "text/plain": [
              "<Figure size 432x288 with 1 Axes>"
            ],
            "image/png": "[encoded data removed]"
          },
          "metadata": {
            "needs_background": "light"
          }
        }
      ]
    },
    {
      "cell_type": "markdown",
      "source": [
        "테스트 결과 및 Confusion Matrix 그리기"
      ],
      "metadata": {
        "id": "Q0BzpQa7Wmer"
      }
    },
    {
      "cell_type": "code",
      "source": [
        "# 테스트 집합\n",
        "res = cnn.predict(x_test)\n",
        "\n",
        "# Confusion Matrix\n",
        "conf=np.zeros((10,10))\n",
        "for i in range(len(res)):\n",
        "  conf[res[i].argmax()][y_test[i].argmax()]+=1\n",
        "print(conf)\n",
        "\n",
        "# 정확률 계산(2)\n",
        "no_correct=0\n",
        "for i in range(10):\n",
        "  no_correct+=conf[i][i]\n",
        "accuracy=no_correct/len(res)\n",
        "print(\"정확률(%):\",accuracy*100)"
      ],
      "metadata": {
        "id": "gAd4JXEbWjxD",
        "colab": {
          "base_uri": "https://localhost:8080/"
        },
        "outputId": "2da66b88-c45f-41f0-ea28-b832edf1cc4d"
      },
      "execution_count": null,
      "outputs": [
        {
          "output_type": "stream",
          "name": "stdout",
          "text": [
            "[[823.  14.  49.  23.  16.  13.  13.   9.  46.  18.]\n",
            " [ 17. 911.   6.  15.   5.   6.   4.   4.  31.  54.]\n",
            " [ 38.   3. 683.  64.  44.  35.  33.  21.  12.   4.]\n",
            " [  9.   2.  47. 582.  52. 159.  37.  30.   6.   3.]\n",
            " [  5.   1.  66.  42. 745.  17.  22.  28.   2.   0.]\n",
            " [  6.   2.  46. 152.  35. 704.  16.  43.   6.   1.]\n",
            " [  7.   2.  55.  54.  42.  14. 862.   4.   4.   6.]\n",
            " [  8.   0.  24.  28.  51.  41.   3. 832.   3.   3.]\n",
            " [ 46.  13.  13.  17.   5.   2.   5.   2. 859.  22.]\n",
            " [ 41.  52.  11.  23.   5.   9.   5.  27.  31. 889.]]\n",
            "정확률(%): 78.9\n"
          ]
        }
      ]
    },
    {
      "cell_type": "markdown",
      "source": [
        "저장된 모델 불러오기 및 평가"
      ],
      "metadata": {
        "id": "KpZxTrixWzJS"
      }
    },
    {
      "cell_type": "code",
      "metadata": {
        "id": "Fc8m1Au5cXRz",
        "colab": {
          "base_uri": "https://localhost:8080/"
        },
        "outputId": "6b31f204-f7ee-42c2-a0c4-6a2185205889"
      },
      "source": [
        "import numpy as np\n",
        "import tensorflow as tf\n",
        "from tensorflow.keras.datasets import cifar10\n",
        "from tensorflow.python.keras.models import load_model\n",
        "\n",
        "# 신경망 구조와 가중치를 저장하고 있는 파일을 읽어 옴\n",
        "cnn2 = load_model(dir + \"cnn_cifar10.h5\")\n",
        "cnn2.summary()\n",
        "\n",
        "# CIFAR-10 데이터셋을 읽고 신경망에 입력할 형태로 변환\n",
        "(x_train,y_train),(x_test,y_test) = cifar10.load_data()\n",
        "x_train = x_train.astype(np.float32)/255.0\n",
        "x_test = x_test.astype(np.float32)/255.0\n",
        "y_train = tf.keras.utils.to_categorical(y_train,10)\n",
        "y_test = tf.keras.utils.to_categorical(y_test,10)\n",
        "\n",
        "res=cnn2.evaluate(x_test, y_test, verbose=0)\n",
        "print(\"정확률(%):\",res[1]*100)"
      ],
      "execution_count": null,
      "outputs": [
        {
          "output_type": "stream",
          "name": "stdout",
          "text": [
            "Model: \"sequential\"\n",
            "_________________________________________________________________\n",
            "Layer (type)                 Output Shape              Param #   \n",
            "=================================================================\n",
            "conv2d (Conv2D)              (None, 30, 30, 32)        896       \n",
            "_________________________________________________________________\n",
            "conv2d_1 (Conv2D)            (None, 28, 28, 32)        9248      \n",
            "_________________________________________________________________\n",
            "max_pooling2d (MaxPooling2D) (None, 14, 14, 32)        0         \n",
            "_________________________________________________________________\n",
            "dropout (Dropout)            (None, 14, 14, 32)        0         \n",
            "_________________________________________________________________\n",
            "conv2d_2 (Conv2D)            (None, 12, 12, 64)        18496     \n",
            "_________________________________________________________________\n",
            "conv2d_3 (Conv2D)            (None, 10, 10, 64)        36928     \n",
            "_________________________________________________________________\n",
            "max_pooling2d_1 (MaxPooling2 (None, 5, 5, 64)          0         \n",
            "_________________________________________________________________\n",
            "dropout_1 (Dropout)          (None, 5, 5, 64)          0         \n",
            "_________________________________________________________________\n",
            "flatten (Flatten)            (None, 1600)              0         \n",
            "_________________________________________________________________\n",
            "dense (Dense)                (None, 512)               819712    \n",
            "_________________________________________________________________\n",
            "dropout_2 (Dropout)          (None, 512)               0         \n",
            "_________________________________________________________________\n",
            "dense_1 (Dense)              (None, 10)                5130      \n",
            "=================================================================\n",
            "Total params: 890,410\n",
            "Trainable params: 890,410\n",
            "Non-trainable params: 0\n",
            "_________________________________________________________________\n",
            "정확률(%): 78.89999747276306\n"
          ]
        }
      ]
    }
  ]
}