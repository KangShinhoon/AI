{
  "nbformat": 4,
  "nbformat_minor": 0,
  "metadata": {
    "kernelspec": {
      "display_name": "Python 3",
      "language": "python",
      "name": "python3"
    },
    "language_info": {
      "codemirror_mode": {
        "name": "ipython",
        "version": 3
      },
      "file_extension": ".py",
      "mimetype": "text/x-python",
      "name": "python",
      "nbconvert_exporter": "python",
      "pygments_lexer": "ipython3",
      "version": "3.8.8"
    },
    "colab": {
      "name": "tf.keras_DNN_BMI.ipynb",
      "provenance": []
    }
  },
  "cells": [
    {
      "cell_type": "code",
      "metadata": {
        "colab": {
          "base_uri": "https://localhost:8080/"
        },
        "id": "EYWPrHpHvOaT",
        "outputId": "e77611f1-61b5-4a18-fce5-404b26162176"
      },
      "source": [
        "from google.colab import drive\n",
        "\n",
        "drive.mount('/content/gdrive')   # google drive를 google colab에 연결. 처음 실행 시, 인증 필요 "
      ],
      "execution_count": null,
      "outputs": [
        {
          "output_type": "stream",
          "name": "stdout",
          "text": [
            "Drive already mounted at /content/gdrive; to attempt to forcibly remount, call drive.mount(\"/content/gdrive\", force_remount=True).\n"
          ]
        }
      ]
    },
    {
      "cell_type": "code",
      "source": [
        ""
      ],
      "metadata": {
        "id": "xojQjueCCwUw"
      },
      "execution_count": null,
      "outputs": []
    },
    {
      "cell_type": "code",
      "metadata": {
        "id": "22UZuhWkLtVt"
      },
      "source": [
        "import numpy as np\n",
        "import pandas as pd\n",
        "import tensorflow as tf\n",
        "from tensorflow.keras import layers  #모듈(변수나 함수를 포함)만 불러오기\n",
        "\n",
        "# BMI 데이터를 읽어 들이고 정규화하기\n",
        "dir = \"/content/gdrive/My Drive/Colab Notebooks/ai/\"\n",
        "df = pd.read_csv(dir + \"bmi.csv\")"
      ],
      "execution_count": null,
      "outputs": []
    },
    {
      "cell_type": "code",
      "metadata": {
        "colab": {
          "base_uri": "https://localhost:8080/",
          "height": 422
        },
        "id": "3GAFF1QOk58E",
        "outputId": "f7bf136e-1d94-4cab-af5c-32842b47dc7e"
      },
      "source": [
        "df"
      ],
      "execution_count": null,
      "outputs": [
        {
          "output_type": "execute_result",
          "data": {
            "text/html": [
              "<div>\n",
              "<style scoped>\n",
              "    .dataframe tbody tr th:only-of-type {\n",
              "        vertical-align: middle;\n",
              "    }\n",
              "\n",
              "    .dataframe tbody tr th {\n",
              "        vertical-align: top;\n",
              "    }\n",
              "\n",
              "    .dataframe thead th {\n",
              "        text-align: right;\n",
              "    }\n",
              "</style>\n",
              "<table border=\"1\" class=\"dataframe\">\n",
              "  <thead>\n",
              "    <tr style=\"text-align: right;\">\n",
              "      <th></th>\n",
              "      <th>height</th>\n",
              "      <th>weight</th>\n",
              "      <th>label</th>\n",
              "    </tr>\n",
              "  </thead>\n",
              "  <tbody>\n",
              "    <tr>\n",
              "      <th>0</th>\n",
              "      <td>142</td>\n",
              "      <td>62</td>\n",
              "      <td>fat</td>\n",
              "    </tr>\n",
              "    <tr>\n",
              "      <th>1</th>\n",
              "      <td>142</td>\n",
              "      <td>73</td>\n",
              "      <td>fat</td>\n",
              "    </tr>\n",
              "    <tr>\n",
              "      <th>2</th>\n",
              "      <td>177</td>\n",
              "      <td>61</td>\n",
              "      <td>normal</td>\n",
              "    </tr>\n",
              "    <tr>\n",
              "      <th>3</th>\n",
              "      <td>187</td>\n",
              "      <td>48</td>\n",
              "      <td>thin</td>\n",
              "    </tr>\n",
              "    <tr>\n",
              "      <th>4</th>\n",
              "      <td>153</td>\n",
              "      <td>60</td>\n",
              "      <td>fat</td>\n",
              "    </tr>\n",
              "    <tr>\n",
              "      <th>...</th>\n",
              "      <td>...</td>\n",
              "      <td>...</td>\n",
              "      <td>...</td>\n",
              "    </tr>\n",
              "    <tr>\n",
              "      <th>19995</th>\n",
              "      <td>122</td>\n",
              "      <td>58</td>\n",
              "      <td>fat</td>\n",
              "    </tr>\n",
              "    <tr>\n",
              "      <th>19996</th>\n",
              "      <td>193</td>\n",
              "      <td>69</td>\n",
              "      <td>normal</td>\n",
              "    </tr>\n",
              "    <tr>\n",
              "      <th>19997</th>\n",
              "      <td>193</td>\n",
              "      <td>37</td>\n",
              "      <td>thin</td>\n",
              "    </tr>\n",
              "    <tr>\n",
              "      <th>19998</th>\n",
              "      <td>195</td>\n",
              "      <td>51</td>\n",
              "      <td>thin</td>\n",
              "    </tr>\n",
              "    <tr>\n",
              "      <th>19999</th>\n",
              "      <td>163</td>\n",
              "      <td>67</td>\n",
              "      <td>normal</td>\n",
              "    </tr>\n",
              "  </tbody>\n",
              "</table>\n",
              "<p>20000 rows × 3 columns</p>\n",
              "</div>"
            ],
            "text/plain": [
              "       height  weight   label\n",
              "0         142      62     fat\n",
              "1         142      73     fat\n",
              "2         177      61  normal\n",
              "3         187      48    thin\n",
              "4         153      60     fat\n",
              "...       ...     ...     ...\n",
              "19995     122      58     fat\n",
              "19996     193      69  normal\n",
              "19997     193      37    thin\n",
              "19998     195      51    thin\n",
              "19999     163      67  normal\n",
              "\n",
              "[20000 rows x 3 columns]"
            ]
          },
          "metadata": {},
          "execution_count": 3
        }
      ]
    },
    {
      "cell_type": "code",
      "metadata": {
        "id": "WaC6EJH_kwwz"
      },
      "source": [
        "# 몸무게와 키 데이터\n",
        "df[\"weight\"] /= 100   #normalization\n",
        "df[\"height\"] /= 200   #normalization\n",
        "# X = df[[\"weight\", \"height\"]].to_numpy()\n",
        "X = df.iloc[:,0:2]\n",
        "\n",
        "# 레이블\n",
        "bclass = {\"thin\":[1,0,0], \"normal\":[0,1,0], \"fat\":[0,0,1]}\n",
        "y = np.empty((20000,3))     # 2000x3 크기의 다차원 벡터 생성\n",
        "for i, v in enumerate(df[\"label\"]):\n",
        "    y[i] = bclass[v]        #\"thin'이면, y[i]=[1,0,0] 와 같이 할당\n",
        "    \n",
        "# 훈련 전용 데이터와 테스트 전용 데이터로 나누기\n",
        "X_train, y_train = X[0:15000], y[0:15000]\n",
        "X_test,  y_test  = X[15000:20000], y[15000:20000]"
      ],
      "execution_count": null,
      "outputs": []
    },
    {
      "cell_type": "code",
      "metadata": {
        "scrolled": true,
        "id": "G2UgYhccLtVu"
      },
      "source": [
        "# 모델 구조 정의하기\n",
        "model = tf.keras.Sequential()  #순차적 계층화 준비\n",
        "model.add(layers.Dense(8, input_shape=(2,)))  #입력 2개로부터 전달받는 8개 노드의 layer 생성\n",
        "model.add(layers.Activation('relu'))  #ReLU 활성화함수 채택\n",
        "model.add(layers.Dropout(0.1))        #dropout ratio=10% (배치 훈련시 10% arc 무시)\n",
        "\n",
        "model.add(layers.Dense(4))         #4개 노드의 layer 생성\n",
        "model.add(layers.Activation('relu'))\n",
        "model.add(layers.Dropout(0.1))\n",
        "\n",
        "model.add(layers.Dense(3))\n",
        "model.add(layers.Activation('softmax')) #분류(classification)을 위해 softmax 함수 사용\n",
        "\n",
        "# 모델 구축하기\n",
        "model.compile(\n",
        "    loss='categorical_crossentropy',  #다중 교차엔트로피\n",
        "    optimizer=\"rmsprop\",   #최적화 기법 중 하나\n",
        "    metrics=['accuracy'])  #정확도 측정"
      ],
      "execution_count": null,
      "outputs": []
    },
    {
      "cell_type": "code",
      "metadata": {
        "scrolled": true,
        "id": "2IhHchdXLtVv",
        "colab": {
          "base_uri": "https://localhost:8080/"
        },
        "outputId": "b5bdaf77-63dc-4148-db4f-20151d50d773"
      },
      "source": [
        "# 데이터 훈련하기\n",
        "hist = model.fit(\n",
        "    X_train, y_train,\n",
        "    batch_size=100,  #100개에 한 번씩 업데이터 실행\n",
        "    epochs=50,       #훈련 데이터셋을 총 20회 반복 실험. 단, 조기중지될 수 있음\n",
        "    validation_split=0.2,  \n",
        "      #validation data 분할 비율. 즉, 15000개 중에서 10%인 1500개를 validation용으로 분할\n",
        "    callbacks=[tf.keras.callbacks.EarlyStopping(monitor='val_loss', patience=10)],  \n",
        "      #'val_loss'를 monitor하여 감소하면 한 번 더(1) 참고 조기중지\n",
        "    verbose=1)  #전 과정을 화면에 출력(1) 또는 미출력(0) 모드\n",
        "\n",
        "# 테스트 데이터로 평가하기\n",
        "score = model.evaluate(X_test, y_test)\n",
        "print('test_loss: ', score[0])\n",
        "print('test_acc: ', score[1])"
      ],
      "execution_count": null,
      "outputs": [
        {
          "output_type": "stream",
          "name": "stdout",
          "text": [
            "Epoch 1/50\n",
            "120/120 [==============================] - 1s 3ms/step - loss: 1.0871 - accuracy: 0.3850 - val_loss: 1.0711 - val_accuracy: 0.4117\n",
            "Epoch 2/50\n",
            "120/120 [==============================] - 0s 2ms/step - loss: 1.0694 - accuracy: 0.4665 - val_loss: 1.0466 - val_accuracy: 0.5493\n",
            "Epoch 3/50\n",
            "120/120 [==============================] - 0s 2ms/step - loss: 1.0440 - accuracy: 0.5240 - val_loss: 1.0113 - val_accuracy: 0.6743\n",
            "Epoch 4/50\n",
            "120/120 [==============================] - 0s 2ms/step - loss: 1.0067 - accuracy: 0.5472 - val_loss: 0.9554 - val_accuracy: 0.6733\n",
            "Epoch 5/50\n",
            "120/120 [==============================] - 0s 2ms/step - loss: 0.9567 - accuracy: 0.5568 - val_loss: 0.8893 - val_accuracy: 0.6843\n",
            "Epoch 6/50\n",
            "120/120 [==============================] - 0s 2ms/step - loss: 0.8924 - accuracy: 0.5769 - val_loss: 0.8132 - val_accuracy: 0.6890\n",
            "Epoch 7/50\n",
            "120/120 [==============================] - 0s 2ms/step - loss: 0.8244 - accuracy: 0.6037 - val_loss: 0.7371 - val_accuracy: 0.7583\n",
            "Epoch 8/50\n",
            "120/120 [==============================] - 0s 2ms/step - loss: 0.7626 - accuracy: 0.6401 - val_loss: 0.6703 - val_accuracy: 0.8147\n",
            "Epoch 9/50\n",
            "120/120 [==============================] - 0s 2ms/step - loss: 0.7034 - accuracy: 0.6848 - val_loss: 0.6065 - val_accuracy: 0.8397\n",
            "Epoch 10/50\n",
            "120/120 [==============================] - 0s 2ms/step - loss: 0.6532 - accuracy: 0.7095 - val_loss: 0.5521 - val_accuracy: 0.8637\n",
            "Epoch 11/50\n",
            "120/120 [==============================] - 0s 2ms/step - loss: 0.6024 - accuracy: 0.7399 - val_loss: 0.4964 - val_accuracy: 0.8977\n",
            "Epoch 12/50\n",
            "120/120 [==============================] - 0s 2ms/step - loss: 0.5622 - accuracy: 0.7612 - val_loss: 0.4496 - val_accuracy: 0.9240\n",
            "Epoch 13/50\n",
            "120/120 [==============================] - 0s 2ms/step - loss: 0.5220 - accuracy: 0.7788 - val_loss: 0.4036 - val_accuracy: 0.9427\n",
            "Epoch 14/50\n",
            "120/120 [==============================] - 0s 2ms/step - loss: 0.4901 - accuracy: 0.7946 - val_loss: 0.3660 - val_accuracy: 0.9423\n",
            "Epoch 15/50\n",
            "120/120 [==============================] - 0s 2ms/step - loss: 0.4563 - accuracy: 0.8098 - val_loss: 0.3310 - val_accuracy: 0.9600\n",
            "Epoch 16/50\n",
            "120/120 [==============================] - 0s 2ms/step - loss: 0.4363 - accuracy: 0.8275 - val_loss: 0.3049 - val_accuracy: 0.9623\n",
            "Epoch 17/50\n",
            "120/120 [==============================] - 0s 2ms/step - loss: 0.4075 - accuracy: 0.8428 - val_loss: 0.2789 - val_accuracy: 0.9743\n",
            "Epoch 18/50\n",
            "120/120 [==============================] - 0s 2ms/step - loss: 0.3890 - accuracy: 0.8462 - val_loss: 0.2589 - val_accuracy: 0.9760\n",
            "Epoch 19/50\n",
            "120/120 [==============================] - 0s 2ms/step - loss: 0.3678 - accuracy: 0.8578 - val_loss: 0.2369 - val_accuracy: 0.9757\n",
            "Epoch 20/50\n",
            "120/120 [==============================] - 0s 2ms/step - loss: 0.3494 - accuracy: 0.8657 - val_loss: 0.2215 - val_accuracy: 0.9787\n",
            "Epoch 21/50\n",
            "120/120 [==============================] - 0s 2ms/step - loss: 0.3336 - accuracy: 0.8668 - val_loss: 0.2120 - val_accuracy: 0.9700\n",
            "Epoch 22/50\n",
            "120/120 [==============================] - 0s 2ms/step - loss: 0.3213 - accuracy: 0.8758 - val_loss: 0.1919 - val_accuracy: 0.9833\n",
            "Epoch 23/50\n",
            "120/120 [==============================] - 0s 2ms/step - loss: 0.3075 - accuracy: 0.8778 - val_loss: 0.1808 - val_accuracy: 0.9760\n",
            "Epoch 24/50\n",
            "120/120 [==============================] - 0s 2ms/step - loss: 0.3006 - accuracy: 0.8823 - val_loss: 0.1729 - val_accuracy: 0.9827\n",
            "Epoch 25/50\n",
            "120/120 [==============================] - 0s 2ms/step - loss: 0.2902 - accuracy: 0.8866 - val_loss: 0.1643 - val_accuracy: 0.9843\n",
            "Epoch 26/50\n",
            "120/120 [==============================] - 0s 2ms/step - loss: 0.2788 - accuracy: 0.8901 - val_loss: 0.1560 - val_accuracy: 0.9860\n",
            "Epoch 27/50\n",
            "120/120 [==============================] - 0s 2ms/step - loss: 0.2705 - accuracy: 0.8940 - val_loss: 0.1488 - val_accuracy: 0.9860\n",
            "Epoch 28/50\n",
            "120/120 [==============================] - 0s 2ms/step - loss: 0.2623 - accuracy: 0.8929 - val_loss: 0.1467 - val_accuracy: 0.9787\n",
            "Epoch 29/50\n",
            "120/120 [==============================] - 0s 2ms/step - loss: 0.2527 - accuracy: 0.9003 - val_loss: 0.1383 - val_accuracy: 0.9853\n",
            "Epoch 30/50\n",
            "120/120 [==============================] - 0s 2ms/step - loss: 0.2518 - accuracy: 0.9023 - val_loss: 0.1360 - val_accuracy: 0.9750\n",
            "Epoch 31/50\n",
            "120/120 [==============================] - 0s 2ms/step - loss: 0.2462 - accuracy: 0.9016 - val_loss: 0.1292 - val_accuracy: 0.9870\n",
            "Epoch 32/50\n",
            "120/120 [==============================] - 0s 2ms/step - loss: 0.2461 - accuracy: 0.9020 - val_loss: 0.1254 - val_accuracy: 0.9873\n",
            "Epoch 33/50\n",
            "120/120 [==============================] - 0s 2ms/step - loss: 0.2409 - accuracy: 0.9038 - val_loss: 0.1210 - val_accuracy: 0.9857\n",
            "Epoch 34/50\n",
            "120/120 [==============================] - 0s 2ms/step - loss: 0.2374 - accuracy: 0.9075 - val_loss: 0.1183 - val_accuracy: 0.9867\n",
            "Epoch 35/50\n",
            "120/120 [==============================] - 0s 2ms/step - loss: 0.2268 - accuracy: 0.9069 - val_loss: 0.1159 - val_accuracy: 0.9833\n",
            "Epoch 36/50\n",
            "120/120 [==============================] - 0s 2ms/step - loss: 0.2339 - accuracy: 0.9076 - val_loss: 0.1113 - val_accuracy: 0.9850\n",
            "Epoch 37/50\n",
            "120/120 [==============================] - 0s 2ms/step - loss: 0.2177 - accuracy: 0.9142 - val_loss: 0.1088 - val_accuracy: 0.9867\n",
            "Epoch 38/50\n",
            "120/120 [==============================] - 0s 2ms/step - loss: 0.2149 - accuracy: 0.9151 - val_loss: 0.1061 - val_accuracy: 0.9847\n",
            "Epoch 39/50\n",
            "120/120 [==============================] - 0s 2ms/step - loss: 0.2050 - accuracy: 0.9183 - val_loss: 0.1063 - val_accuracy: 0.9823\n",
            "Epoch 40/50\n",
            "120/120 [==============================] - 0s 2ms/step - loss: 0.2136 - accuracy: 0.9137 - val_loss: 0.1018 - val_accuracy: 0.9873\n",
            "Epoch 41/50\n",
            "120/120 [==============================] - 0s 2ms/step - loss: 0.2051 - accuracy: 0.9175 - val_loss: 0.1014 - val_accuracy: 0.9800\n",
            "Epoch 42/50\n",
            "120/120 [==============================] - 0s 2ms/step - loss: 0.1995 - accuracy: 0.9226 - val_loss: 0.0970 - val_accuracy: 0.9850\n",
            "Epoch 43/50\n",
            "120/120 [==============================] - 0s 2ms/step - loss: 0.2008 - accuracy: 0.9209 - val_loss: 0.0962 - val_accuracy: 0.9847\n",
            "Epoch 44/50\n",
            "120/120 [==============================] - 0s 2ms/step - loss: 0.1940 - accuracy: 0.9261 - val_loss: 0.0953 - val_accuracy: 0.9813\n",
            "Epoch 45/50\n",
            "120/120 [==============================] - 0s 2ms/step - loss: 0.1998 - accuracy: 0.9212 - val_loss: 0.0941 - val_accuracy: 0.9863\n",
            "Epoch 46/50\n",
            "120/120 [==============================] - 0s 2ms/step - loss: 0.1943 - accuracy: 0.9222 - val_loss: 0.0924 - val_accuracy: 0.9857\n",
            "Epoch 47/50\n",
            "120/120 [==============================] - 0s 2ms/step - loss: 0.1886 - accuracy: 0.9258 - val_loss: 0.0889 - val_accuracy: 0.9860\n",
            "Epoch 48/50\n",
            "120/120 [==============================] - 0s 2ms/step - loss: 0.1791 - accuracy: 0.9306 - val_loss: 0.0864 - val_accuracy: 0.9863\n",
            "Epoch 49/50\n",
            "120/120 [==============================] - 0s 2ms/step - loss: 0.1818 - accuracy: 0.9271 - val_loss: 0.0859 - val_accuracy: 0.9877\n",
            "Epoch 50/50\n",
            "120/120 [==============================] - 0s 2ms/step - loss: 0.1750 - accuracy: 0.9330 - val_loss: 0.0832 - val_accuracy: 0.9873\n",
            "157/157 [==============================] - 0s 2ms/step - loss: 0.0858 - accuracy: 0.9836\n",
            "test_loss:  0.08579569309949875\n",
            "test_acc:  0.9836000204086304\n"
          ]
        }
      ]
    },
    {
      "cell_type": "code",
      "metadata": {
        "colab": {
          "base_uri": "https://localhost:8080/"
        },
        "id": "eVZ2sf6Gb5Y-",
        "outputId": "840fe62c-d2f8-4c29-cd20-0730e4360227"
      },
      "source": [
        "hist.history.keys()"
      ],
      "execution_count": null,
      "outputs": [
        {
          "output_type": "execute_result",
          "data": {
            "text/plain": [
              "dict_keys(['loss', 'accuracy', 'val_loss', 'val_accuracy'])"
            ]
          },
          "metadata": {},
          "execution_count": 7
        }
      ]
    },
    {
      "cell_type": "code",
      "metadata": {
        "scrolled": true,
        "id": "Hh1NwcAwLtVw",
        "colab": {
          "base_uri": "https://localhost:8080/",
          "height": 279
        },
        "outputId": "a0023f3d-e29d-4e7e-d4d7-f029c5d9c4b8"
      },
      "source": [
        "import matplotlib.pyplot as plt\n",
        "\n",
        "fig, loss_ax = plt.subplots()\n",
        "acc_ax = loss_ax.twinx()\n",
        "\n",
        "loss_ax.plot(hist.history['loss'], 'y', label='train loss')\n",
        "loss_ax.plot(hist.history['val_loss'], 'r', label='val loss')\n",
        "\n",
        "acc_ax.plot(hist.history['accuracy'], 'b', label='train acc')\n",
        "acc_ax.plot(hist.history['val_accuracy'], 'g', label='val acc')\n",
        "\n",
        "loss_ax.set_xlabel('epoch')\n",
        "loss_ax.set_ylabel('loss')\n",
        "acc_ax.set_ylabel('accuray')\n",
        "\n",
        "loss_ax.legend(loc='upper left')\n",
        "acc_ax.legend(loc='lower left')\n",
        "\n",
        "plt.show()"
      ],
      "execution_count": null,
      "outputs": [
        {
          "output_type": "display_data",
          "data": {
            "image/png": "[encoded data removed]",
            "text/plain": [
              "<Figure size 432x288 with 2 Axes>"
            ]
          },
          "metadata": {
            "needs_background": "light"
          }
        }
      ]
    },
    {
      "cell_type": "code",
      "metadata": {
        "id": "a0LNN770LtVw",
        "colab": {
          "base_uri": "https://localhost:8080/"
        },
        "outputId": "c5c7edc5-4149-45e3-b717-0b36b4c41595"
      },
      "source": [
        "model.summary()"
      ],
      "execution_count": null,
      "outputs": [
        {
          "output_type": "stream",
          "name": "stdout",
          "text": [
            "Model: \"sequential\"\n",
            "_________________________________________________________________\n",
            "Layer (type)                 Output Shape              Param #   \n",
            "=================================================================\n",
            "dense (Dense)                (None, 8)                 24        \n",
            "_________________________________________________________________\n",
            "activation (Activation)      (None, 8)                 0         \n",
            "_________________________________________________________________\n",
            "dropout (Dropout)            (None, 8)                 0         \n",
            "_________________________________________________________________\n",
            "dense_1 (Dense)              (None, 4)                 36        \n",
            "_________________________________________________________________\n",
            "activation_1 (Activation)    (None, 4)                 0         \n",
            "_________________________________________________________________\n",
            "dropout_1 (Dropout)          (None, 4)                 0         \n",
            "_________________________________________________________________\n",
            "dense_2 (Dense)              (None, 3)                 15        \n",
            "_________________________________________________________________\n",
            "activation_2 (Activation)    (None, 3)                 0         \n",
            "=================================================================\n",
            "Total params: 75\n",
            "Trainable params: 75\n",
            "Non-trainable params: 0\n",
            "_________________________________________________________________\n"
          ]
        }
      ]
    },
    {
      "cell_type": "code",
      "metadata": {
        "colab": {
          "base_uri": "https://localhost:8080/"
        },
        "id": "Ap06VxZI5Aog",
        "outputId": "33cebf4c-23ce-4303-f929-f3fa7e1a7a16"
      },
      "source": [
        "model.get_weights()"
      ],
      "execution_count": null,
      "outputs": [
        {
          "output_type": "execute_result",
          "data": {
            "text/plain": [
              "[array([[ 1.0223536 ,  1.0737687 , -0.8858659 ,  1.3050086 , -0.4211131 ,\n",
              "         -0.0329867 , -0.30703276, -0.6871386 ],\n",
              "        [-0.43503132, -0.7421807 ,  0.91232455, -0.8176703 , -0.5616946 ,\n",
              "         -0.3269924 ,  0.04708445,  1.1495359 ]], dtype=float32),\n",
              " array([-0.5009788 , -0.3548734 ,  0.30295023, -0.4819903 ,  0.        ,\n",
              "         0.        ,  0.        ,  0.05962522], dtype=float32),\n",
              " array([[-1.1440146 ,  3.3437574 ,  2.3737097 , -1.2519853 ],\n",
              "        [-1.3345015 ,  4.8031535 ,  4.324382  , -1.0752063 ],\n",
              "        [ 3.0831962 , -0.14476517, -0.10302718,  3.7442536 ],\n",
              "        [-1.3004794 ,  4.332766  ,  4.031857  , -0.8268818 ],\n",
              "        [-0.15072352,  0.2690975 , -0.60837644,  0.37746567],\n",
              "        [-0.18006736,  0.3844797 , -0.5567467 , -0.42203376],\n",
              "        [-0.04973394,  0.5667415 ,  0.26129615, -0.2665982 ],\n",
              "        [ 1.8670868 , -0.17212981, -0.1264664 ,  0.8149983 ]],\n",
              "       dtype=float32),\n",
              " array([0.5617083 , 0.05400251, 0.04259777, 0.50977486], dtype=float32),\n",
              " array([[-3.5323658 ,  0.7372903 ,  1.5639694 ],\n",
              "        [ 0.863044  ,  0.3259352 , -5.3513517 ],\n",
              "        [ 2.265428  ,  1.6456655 , -4.1254597 ],\n",
              "        [-3.76431   ,  0.27815488,  1.0718918 ]], dtype=float32),\n",
              " array([-0.07287245, -0.21603064,  0.40735236], dtype=float32)]"
            ]
          },
          "metadata": {},
          "execution_count": 10
        }
      ]
    },
    {
      "cell_type": "code",
      "metadata": {
        "scrolled": true,
        "id": "nhPK4V6nLtVx",
        "colab": {
          "base_uri": "https://localhost:8080/"
        },
        "outputId": "d8938b18-07a6-44cc-964c-d3f1b1186b3f"
      },
      "source": [
        "model.save(dir+\"dnn_bmi.h5\")\n",
        "print(\"Saved model to disk.\")\n",
        "\n",
        "#load and evaluate the saved model\n",
        "from numpy import loadtxt\n",
        "from tensorflow.python.keras.models import load_model\n",
        "\n",
        "#load model\n",
        "loaded_model = load_model(dir+\"dnn_bmi.h5\")\n",
        "model.summary()\n",
        "\n",
        "score = model.evaluate(X_test, y_test)\n",
        "print('test_loss: ', score[0])\n",
        "print('test_acc: ', score[1])"
      ],
      "execution_count": null,
      "outputs": [
        {
          "output_type": "stream",
          "name": "stdout",
          "text": [
            "Saved model to disk.\n",
            "Model: \"sequential\"\n",
            "_________________________________________________________________\n",
            "Layer (type)                 Output Shape              Param #   \n",
            "=================================================================\n",
            "dense (Dense)                (None, 8)                 24        \n",
            "_________________________________________________________________\n",
            "activation (Activation)      (None, 8)                 0         \n",
            "_________________________________________________________________\n",
            "dropout (Dropout)            (None, 8)                 0         \n",
            "_________________________________________________________________\n",
            "dense_1 (Dense)              (None, 4)                 36        \n",
            "_________________________________________________________________\n",
            "activation_1 (Activation)    (None, 4)                 0         \n",
            "_________________________________________________________________\n",
            "dropout_1 (Dropout)          (None, 4)                 0         \n",
            "_________________________________________________________________\n",
            "dense_2 (Dense)              (None, 3)                 15        \n",
            "_________________________________________________________________\n",
            "activation_2 (Activation)    (None, 3)                 0         \n",
            "=================================================================\n",
            "Total params: 75\n",
            "Trainable params: 75\n",
            "Non-trainable params: 0\n",
            "_________________________________________________________________\n",
            "157/157 [==============================] - 0s 2ms/step - loss: 0.0858 - accuracy: 0.9836\n",
            "test_loss:  0.08579569309949875\n",
            "test_acc:  0.9836000204086304\n"
          ]
        }
      ]
    },
    {
      "cell_type": "code",
      "metadata": {
        "id": "X8sQr21XLtVy",
        "colab": {
          "base_uri": "https://localhost:8080/"
        },
        "outputId": "d853d4a8-17df-4ed6-9feb-39dffd08bdb4"
      },
      "source": [
        "# X_test의 예측 클래스 확인하기\n",
        "y_prob = model.predict(X_test)  # output node의 출력값 확인하기\n",
        "print(y_prob)\n",
        "\n",
        "y_class = y_prob.argmax(axis=-1)  # output node의 예측값(class) 확인하기\n",
        "y_class"
      ],
      "execution_count": null,
      "outputs": [
        {
          "output_type": "stream",
          "name": "stdout",
          "text": [
            "[[2.2014974e-07 4.5761559e-02 9.5423824e-01]\n",
            " [9.3394190e-01 6.6058069e-02 1.8914887e-12]\n",
            " [1.1803458e-03 9.9881554e-01 4.1693779e-06]\n",
            " ...\n",
            " [9.9663109e-01 3.3688995e-03 7.1712256e-27]\n",
            " [9.8948824e-01 1.0511738e-02 1.9530340e-21]\n",
            " [7.7211444e-06 7.3224193e-01 2.6775044e-01]]\n"
          ]
        },
        {
          "output_type": "execute_result",
          "data": {
            "text/plain": [
              "array([2, 0, 1, ..., 0, 0, 1])"
            ]
          },
          "metadata": {},
          "execution_count": 12
        }
      ]
    },
    {
      "cell_type": "code",
      "metadata": {
        "id": "34Xez1yYLtV0",
        "colab": {
          "base_uri": "https://localhost:8080/"
        },
        "outputId": "b953cc49-df30-4694-a9ca-db4f547cbd23"
      },
      "source": [
        "# 새로운 샘플의 예측 클래스 확인하기\n",
        "X_new = [80, 175]\n",
        "X_new[0]/=100; X_new[1]/=200\n",
        "print(X_new)\n",
        "\n",
        "y_prob = model.predict([X_new])\n",
        "y_pred = y_prob.argmax()\n",
        "print(y_prob, y_pred)"
      ],
      "execution_count": null,
      "outputs": [
        {
          "output_type": "stream",
          "name": "stdout",
          "text": [
            "[0.8, 0.875]\n",
            "[[4.942637e-12 8.250503e-03 9.917495e-01]] 2\n"
          ]
        }
      ]
    },
    {
      "cell_type": "code",
      "metadata": {
        "id": "YDjOYxUzLtVz",
        "colab": {
          "base_uri": "https://localhost:8080/"
        },
        "outputId": "46f9e975-6329-41c1-de7f-3b1ba31e25e4"
      },
      "source": [
        "type(X_test)"
      ],
      "execution_count": null,
      "outputs": [
        {
          "output_type": "execute_result",
          "data": {
            "text/plain": [
              "pandas.core.frame.DataFrame"
            ]
          },
          "metadata": {},
          "execution_count": 14
        }
      ]
    },
    {
      "cell_type": "code",
      "metadata": {
        "id": "iOdX9FRmLtVz",
        "colab": {
          "base_uri": "https://localhost:8080/",
          "height": 205
        },
        "outputId": "b26960e2-63e0-46eb-be68-391b651bbd8b"
      },
      "source": [
        "X_test.head()"
      ],
      "execution_count": null,
      "outputs": [
        {
          "output_type": "execute_result",
          "data": {
            "text/html": [
              "<div>\n",
              "<style scoped>\n",
              "    .dataframe tbody tr th:only-of-type {\n",
              "        vertical-align: middle;\n",
              "    }\n",
              "\n",
              "    .dataframe tbody tr th {\n",
              "        vertical-align: top;\n",
              "    }\n",
              "\n",
              "    .dataframe thead th {\n",
              "        text-align: right;\n",
              "    }\n",
              "</style>\n",
              "<table border=\"1\" class=\"dataframe\">\n",
              "  <thead>\n",
              "    <tr style=\"text-align: right;\">\n",
              "      <th></th>\n",
              "      <th>height</th>\n",
              "      <th>weight</th>\n",
              "    </tr>\n",
              "  </thead>\n",
              "  <tbody>\n",
              "    <tr>\n",
              "      <th>15000</th>\n",
              "      <td>0.690</td>\n",
              "      <td>0.55</td>\n",
              "    </tr>\n",
              "    <tr>\n",
              "      <th>15001</th>\n",
              "      <td>0.760</td>\n",
              "      <td>0.36</td>\n",
              "    </tr>\n",
              "    <tr>\n",
              "      <th>15002</th>\n",
              "      <td>0.915</td>\n",
              "      <td>0.72</td>\n",
              "    </tr>\n",
              "    <tr>\n",
              "      <th>15003</th>\n",
              "      <td>0.990</td>\n",
              "      <td>0.51</td>\n",
              "    </tr>\n",
              "    <tr>\n",
              "      <th>15004</th>\n",
              "      <td>0.745</td>\n",
              "      <td>0.47</td>\n",
              "    </tr>\n",
              "  </tbody>\n",
              "</table>\n",
              "</div>"
            ],
            "text/plain": [
              "       height  weight\n",
              "15000   0.690    0.55\n",
              "15001   0.760    0.36\n",
              "15002   0.915    0.72\n",
              "15003   0.990    0.51\n",
              "15004   0.745    0.47"
            ]
          },
          "metadata": {},
          "execution_count": 15
        }
      ]
    },
    {
      "cell_type": "code",
      "metadata": {
        "colab": {
          "base_uri": "https://localhost:8080/"
        },
        "id": "xaOIG8Kaovrc",
        "outputId": "21696339-01fa-487e-b95e-505638839785"
      },
      "source": [
        "X_test.head(5).index.tolist()"
      ],
      "execution_count": null,
      "outputs": [
        {
          "output_type": "execute_result",
          "data": {
            "text/plain": [
              "[15000, 15001, 15002, 15003, 15004]"
            ]
          },
          "metadata": {},
          "execution_count": 16
        }
      ]
    },
    {
      "cell_type": "code",
      "metadata": {
        "colab": {
          "base_uri": "https://localhost:8080/"
        },
        "id": "HfXV29CxuGk0",
        "outputId": "656f16bf-4b3c-44ef-c79c-00cd2c582496"
      },
      "source": [
        "X_test0 = X_test.loc[15000]\n",
        "print(X_test0); print()\n",
        "\n",
        "X_test_li = list(X_test0)\n",
        "y_prob = model.predict([X_test_li])  # model.predict([[0.69, 0.55]])\n",
        "y_pred = y_prob.argmax()\n",
        "print(y_prob, y_pred)"
      ],
      "execution_count": null,
      "outputs": [
        {
          "output_type": "stream",
          "name": "stdout",
          "text": [
            "height    0.69\n",
            "weight    0.55\n",
            "Name: 15000, dtype: float64\n",
            "\n",
            "[[2.2014974e-07 4.5761559e-02 9.5423824e-01]] 2\n"
          ]
        }
      ]
    },
    {
      "cell_type": "code",
      "metadata": {
        "id": "flB-FoC2LtV0"
      },
      "source": [
        "def predict_bmi(X_new):\n",
        "  y_prob = model.predict([X_new])\n",
        "  y_pred = y_prob.argmax()\n",
        "  print(X_new, y_prob, y_pred, sep='\\t')"
      ],
      "execution_count": null,
      "outputs": []
    },
    {
      "cell_type": "code",
      "metadata": {
        "id": "EMJdeu5nLtV0",
        "colab": {
          "base_uri": "https://localhost:8080/"
        },
        "outputId": "6c091569-76da-4ebb-e68f-f352ff8f7460"
      },
      "source": [
        "X_mean = [X_train[\"height\"].mean(), X_train[\"weight\"].mean()]\n",
        "X_min = [X_train[\"height\"].min(), X_train[\"weight\"].min()]\n",
        "X_max = [X_train[\"height\"].max(), X_train[\"weight\"].max()]\n",
        "X_min_max = [X_train[\"height\"].min(), X_train[\"weight\"].max()]\n",
        "X_max_min = [X_train[\"height\"].max(), X_train[\"weight\"].min()]\n",
        "\n",
        "predict_bmi(X_mean)\n",
        "predict_bmi(X_min)\n",
        "predict_bmi(X_max)\n",
        "predict_bmi(X_min_max)\n",
        "predict_bmi(X_max_min)"
      ],
      "execution_count": null,
      "outputs": [
        {
          "output_type": "stream",
          "name": "stdout",
          "text": [
            "[0.7999703333333329, 0.5757626666666672]\t[[1.7923994e-03 9.9801314e-01 1.9440649e-04]]\t1\n",
            "[0.6, 0.35]\t[[0.00074736 0.64003724 0.3592155 ]]\t1\n",
            "[1.0, 0.8]\t[[5.1797717e-03 9.9482024e-01 1.4253998e-08]]\t1\n",
            "[0.6, 0.8]\t[[6.297377e-14 4.063056e-03 9.959370e-01]]\t2\n",
            "[1.0, 0.35]\t[[9.9835807e-01 1.6419510e-03 2.7135495e-30]]\t0\n"
          ]
        }
      ]
    }
  ]
}