{
  "nbformat": 4,
  "nbformat_minor": 0,
  "metadata": {
    "kernelspec": {
      "display_name": "Python 3",
      "language": "python",
      "name": "python3"
    },
    "language_info": {
      "codemirror_mode": {
        "name": "ipython",
        "version": 3
      },
      "file_extension": ".py",
      "mimetype": "text/x-python",
      "name": "python",
      "nbconvert_exporter": "python",
      "pygments_lexer": "ipython3",
      "version": "3.8.8"
    },
    "colab": {
      "name": "tf.keras_DNN_SinCos.ipynb",
      "provenance": []
    }
  },
  "cells": [
    {
      "cell_type": "code",
      "metadata": {
        "colab": {
          "base_uri": "https://localhost:8080/"
        },
        "id": "MU6-iR1LKFV7",
        "outputId": "cbf0665f-650f-4553-9d6e-43ad4e5eb480"
      },
      "source": [
        "import numpy as np\n",
        "import math\n",
        "\n",
        "# 교재 AI03 26페이지 예제 수식\n",
        "def func(x):\n",
        "    y = 0.5 * (math.cos(8*x) + math.sin(4*x) - x + 0.8)\n",
        "    return y\n",
        "\n",
        "X_train = []\n",
        "y_train = []\n",
        "\n",
        "# 0.1에서 0.9까지 17개 훈련 데이터 생성\n",
        "for i in range(17):\n",
        "    x = 0.1 + i*0.05\n",
        "    x = round(x, 2)\n",
        "    y = func(x)\n",
        "    X_train.append(x)\n",
        "    y_train.append(y)\n",
        "    \n",
        "print(X_train)\n",
        "print(y_train)\n",
        "\n",
        "# 0.1에서 0.9까지 81개 테스트 데이터 생성 (확인용)\n",
        "X_test = []\n",
        "for i in range(81):\n",
        "    x = 0.1 + i*0.01\n",
        "    x = round(x, 2)\n",
        "    X_test.append(x)\n",
        "    \n",
        "print(X_test)"
      ],
      "execution_count": null,
      "outputs": [
        {
          "output_type": "stream",
          "name": "stdout",
          "text": [
            "[0.1, 0.15, 0.2, 0.25, 0.3, 0.35, 0.4, 0.45, 0.5, 0.55, 0.6, 0.65, 0.7, 0.75, 0.8, 0.85, 0.9]\n",
            "[0.8930625258279079, 0.7885001139358545, 0.644078284299117, 0.4876620741303771, 0.3473226852129905, 0.24661369465990107, 0.200639413623376, 0.2135446072720241, 0.2778269029810349, 0.37558176692058537, 0.4814810819952987, 0.5670090215609207, 0.6052770143330775, 0.5756451473551166, 0.46740538766530626, 0.28192819416149706, 0.03291543561870103]\n",
            "[0.1, 0.11, 0.12, 0.13, 0.14, 0.15, 0.16, 0.17, 0.18, 0.19, 0.2, 0.21, 0.22, 0.23, 0.24, 0.25, 0.26, 0.27, 0.28, 0.29, 0.3, 0.31, 0.32, 0.33, 0.34, 0.35, 0.36, 0.37, 0.38, 0.39, 0.4, 0.41, 0.42, 0.43, 0.44, 0.45, 0.46, 0.47, 0.48, 0.49, 0.5, 0.51, 0.52, 0.53, 0.54, 0.55, 0.56, 0.57, 0.58, 0.59, 0.6, 0.61, 0.62, 0.63, 0.64, 0.65, 0.66, 0.67, 0.68, 0.69, 0.7, 0.71, 0.72, 0.73, 0.74, 0.75, 0.76, 0.77, 0.78, 0.79, 0.8, 0.81, 0.82, 0.83, 0.84, 0.85, 0.86, 0.87, 0.88, 0.89, 0.9]\n"
          ]
        }
      ]
    },
    {
      "cell_type": "code",
      "metadata": {
        "scrolled": true,
        "colab": {
          "base_uri": "https://localhost:8080/",
          "height": 269
        },
        "id": "oooMQ3CuKFWA",
        "outputId": "e6f24789-4cee-4edd-e5b5-9aba1b2308d1"
      },
      "source": [
        "import matplotlib.pyplot as plt\n",
        "import numpy as np\n",
        "\n",
        "# 훈련 데이터 분포\n",
        "plt.plot(X_train, y_train, '+')\n",
        "plt.xlim([0.1, 0.9])\n",
        "plt.ylim([0, 1.])\n",
        "plt.show()"
      ],
      "execution_count": null,
      "outputs": [
        {
          "output_type": "display_data",
          "data": {
            "image/png": "[encoded data removed]",
            "text/plain": [
              "<Figure size 432x288 with 1 Axes>"
            ]
          },
          "metadata": {
            "needs_background": "light"
          }
        }
      ]
    },
    {
      "cell_type": "code",
      "metadata": {
        "id": "RCsyzbRMKFWB"
      },
      "source": [
        "import tensorflow as tf\n",
        "from tensorflow.keras import Sequential  # 모듈(변수나 함수를 포함)만 불러오기\n",
        "from tensorflow.keras.initializers import RandomUniform\n",
        "from tensorflow.keras.layers import Dense\n",
        "\n",
        "# -0.5에서 +0.5 사이로 초기화\n",
        "initializer = RandomUniform(minval=-0.5, maxval=0.5)\n",
        "\n",
        "# 모델 구조 정의하기\n",
        "model = Sequential()  # 순차적 계층화 준비\n",
        "model.add(Dense(6, input_dim=1, activation='sigmoid', kernel_initializer=initializer))  # 은닉층 1개, 은닉노드 6개, 입력값 1차원\n",
        "model.add(Dense(1, activation='linear', kernel_initializer='normal'))   # regression 문제는 activation으로 선형함수(linear) 사용\n",
        "\n",
        "# 모델 구축하기\n",
        "model.compile(loss='mean_squared_error', optimizer='adam') # regression 문제는 loss function으로 평균제곱오차(MSE) 사용"
      ],
      "execution_count": null,
      "outputs": []
    },
    {
      "cell_type": "code",
      "metadata": {
        "colab": {
          "base_uri": "https://localhost:8080/"
        },
        "id": "fJwVhIA7KFWC",
        "outputId": "08a2a1aa-370a-4ba9-fd93-3b56cbcda034"
      },
      "source": [
        "# 데이터 훈련하기\n",
        "hist = model.fit(X_train, y_train, epochs=10, verbose=1)"
      ],
      "execution_count": null,
      "outputs": [
        {
          "output_type": "stream",
          "name": "stdout",
          "text": [
            "Epoch 1/10\n",
            "1/1 [==============================] - 1s 740ms/step - loss: 0.2498\n",
            "Epoch 2/10\n",
            "1/1 [==============================] - 0s 5ms/step - loss: 0.2461\n",
            "Epoch 3/10\n",
            "1/1 [==============================] - 0s 5ms/step - loss: 0.2425\n",
            "Epoch 4/10\n",
            "1/1 [==============================] - 0s 5ms/step - loss: 0.2389\n",
            "Epoch 5/10\n",
            "1/1 [==============================] - 0s 10ms/step - loss: 0.2354\n",
            "Epoch 6/10\n",
            "1/1 [==============================] - 0s 8ms/step - loss: 0.2319\n",
            "Epoch 7/10\n",
            "1/1 [==============================] - 0s 6ms/step - loss: 0.2284\n",
            "Epoch 8/10\n",
            "1/1 [==============================] - 0s 5ms/step - loss: 0.2250\n",
            "Epoch 9/10\n",
            "1/1 [==============================] - 0s 8ms/step - loss: 0.2216\n",
            "Epoch 10/10\n",
            "1/1 [==============================] - 0s 7ms/step - loss: 0.2182\n"
          ]
        }
      ]
    },
    {
      "cell_type": "code",
      "metadata": {
        "scrolled": true,
        "colab": {
          "base_uri": "https://localhost:8080/"
        },
        "id": "NjNhXeHDKFWD",
        "outputId": "ba578cda-a11c-425e-eb69-18535e3abf90"
      },
      "source": [
        "y_pred = []\n",
        "y_pred = model.predict(X_test)\n",
        "# print(y_pred)\n",
        "print(list(y_pred[:,0]))"
      ],
      "execution_count": null,
      "outputs": [
        {
          "output_type": "stream",
          "name": "stdout",
          "text": [
            "[0.029525174, 0.02958208, 0.029638976, 0.029695867, 0.029752754, 0.02980963, 0.029866494, 0.029923355, 0.029980205, 0.030037044, 0.030093873, 0.030150691, 0.030207502, 0.030264296, 0.030321082, 0.030377854, 0.03043461, 0.030491358, 0.030548088, 0.030604808, 0.030661508, 0.030718198, 0.030774869, 0.030831527, 0.03088817, 0.030944787, 0.031001395, 0.031057984, 0.031114552, 0.031171104, 0.031227635, 0.031284146, 0.03134064, 0.03139711, 0.031453565, 0.031509995, 0.031566408, 0.031622786, 0.031679153, 0.031735495, 0.031791814, 0.031848107, 0.031904377, 0.03196062, 0.032016844, 0.032073036, 0.032129206, 0.032185346, 0.03224146, 0.032297544, 0.03235361, 0.032409646, 0.032465644, 0.03252162, 0.032577563, 0.032633483, 0.03268937, 0.032745227, 0.032801047, 0.032856844, 0.032912605, 0.03296833, 0.033024028, 0.033079695, 0.033135325, 0.03319092, 0.033246484, 0.03330201, 0.03335751, 0.033412967, 0.033468384, 0.033523772, 0.03357912, 0.033634435, 0.03368971, 0.03374495, 0.033800147, 0.033855308, 0.03391043, 0.033965513, 0.034020558]\n"
          ]
        }
      ]
    },
    {
      "cell_type": "code",
      "metadata": {
        "scrolled": false,
        "colab": {
          "base_uri": "https://localhost:8080/",
          "height": 279
        },
        "id": "AaSW8FlPKFWD",
        "outputId": "f14bb217-f9b6-4300-e30d-ba664ba78128"
      },
      "source": [
        "import matplotlib.pyplot as plt\n",
        "\n",
        "plt.plot(X_test, y_pred)\n",
        "plt.xlabel(\"x\")\n",
        "plt.ylabel(\"y\")\n",
        "plt.show()"
      ],
      "execution_count": null,
      "outputs": [
        {
          "output_type": "display_data",
          "data": {
            "image/png": "[encoded data removed]",
            "text/plain": [
              "<Figure size 432x288 with 1 Axes>"
            ]
          },
          "metadata": {
            "needs_background": "light"
          }
        }
      ]
    },
    {
      "cell_type": "code",
      "metadata": {
        "colab": {
          "base_uri": "https://localhost:8080/"
        },
        "id": "gH763KI6KFWE",
        "outputId": "2f173ee6-a0f7-441a-c5f5-5878a3ff1925"
      },
      "source": [
        "model.get_weights()"
      ],
      "execution_count": null,
      "outputs": [
        {
          "output_type": "execute_result",
          "data": {
            "text/plain": [
              "[array([[ 0.29666102, -0.28863525,  0.24688715, -0.4955989 ,  0.32623777,\n",
              "          0.08616941]], dtype=float32),\n",
              " array([ 0.01005479, -0.00955841, -0.00979754, -0.00984097, -0.00972794,\n",
              "         0.01003118], dtype=float32),\n",
              " array([[ 0.04086178],\n",
              "        [-0.00511509],\n",
              "        [-0.01780595],\n",
              "        [-0.02526312],\n",
              "        [-0.01157827],\n",
              "        [ 0.05609643]], dtype=float32),\n",
              " array([0.00996843], dtype=float32)]"
            ]
          },
          "metadata": {},
          "execution_count": 7
        }
      ]
    },
    {
      "cell_type": "code",
      "metadata": {
        "colab": {
          "base_uri": "https://localhost:8080/"
        },
        "id": "ldYJkq6mKFWF",
        "outputId": "ace4a2e6-91b1-45e0-91d9-9f142d03d711"
      },
      "source": [
        "model.summary()"
      ],
      "execution_count": null,
      "outputs": [
        {
          "output_type": "stream",
          "name": "stdout",
          "text": [
            "Model: \"sequential\"\n",
            "_________________________________________________________________\n",
            "Layer (type)                 Output Shape              Param #   \n",
            "=================================================================\n",
            "dense (Dense)                (None, 6)                 12        \n",
            "_________________________________________________________________\n",
            "dense_1 (Dense)              (None, 1)                 7         \n",
            "=================================================================\n",
            "Total params: 19\n",
            "Trainable params: 19\n",
            "Non-trainable params: 0\n",
            "_________________________________________________________________\n"
          ]
        }
      ]
    }
  ]
}